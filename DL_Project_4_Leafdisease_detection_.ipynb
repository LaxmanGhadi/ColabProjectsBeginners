{
  "nbformat": 4,
  "nbformat_minor": 0,
  "metadata": {
    "colab": {
      "provenance": [],
      "gpuType": "T4",
      "authorship_tag": "ABX9TyMZvy7kled0qZ9Irx10qwui",
      "include_colab_link": true
    },
    "kernelspec": {
      "name": "python3",
      "display_name": "Python 3"
    },
    "language_info": {
      "name": "python"
    },
    "accelerator": "GPU"
  },
  "cells": [
    {
      "cell_type": "markdown",
      "metadata": {
        "id": "view-in-github",
        "colab_type": "text"
      },
      "source": [
        "<a href=\"https://colab.research.google.com/github/LaxmanGhadi/ColabProjectsBeginners/blob/main/DL_Project_4_Leafdisease_detection_.ipynb\" target=\"_parent\"><img src=\"https://colab.research.google.com/assets/colab-badge.svg\" alt=\"Open In Colab\"/></a>"
      ]
    },
    {
      "cell_type": "code",
      "source": [
        "!mkdir -p ~/.kaggle\n",
        "!cp kaggle.json ~/.kaggle/"
      ],
      "metadata": {
        "id": "DnOE3U_E2PFB"
      },
      "execution_count": null,
      "outputs": []
    },
    {
      "cell_type": "code",
      "source": [
        "!kaggle datasets download -d saroz014/plant-disease"
      ],
      "metadata": {
        "colab": {
          "base_uri": "https://localhost:8080/"
        },
        "id": "3SrKRrm22hAh",
        "outputId": "10870b1c-9b15-4844-efce-63e046d155da"
      },
      "execution_count": null,
      "outputs": [
        {
          "output_type": "stream",
          "name": "stdout",
          "text": [
            "Warning: Your Kaggle API key is readable by other users on this system! To fix this, you can run 'chmod 600 /root/.kaggle/kaggle.json'\n",
            "Downloading plant-disease.zip to /content\n",
            "100% 1.60G/1.60G [01:25<00:00, 21.7MB/s]\n",
            "100% 1.60G/1.60G [01:25<00:00, 20.0MB/s]\n"
          ]
        }
      ]
    },
    {
      "cell_type": "code",
      "source": [
        "import zipfile\n",
        "zip_ref  =zipfile.ZipFile('/content/plant-disease.zip')\n",
        "zip_ref.extractall('/content')\n",
        "zip_ref.close()"
      ],
      "metadata": {
        "id": "wWP2ggij2nnk",
        "outputId": "747eaa94-f4eb-4efd-dee9-a065d1b6986d",
        "colab": {
          "base_uri": "https://localhost:8080/",
          "height": 373
        }
      },
      "execution_count": null,
      "outputs": [
        {
          "output_type": "error",
          "ename": "FileNotFoundError",
          "evalue": "ignored",
          "traceback": [
            "\u001b[0;31m---------------------------------------------------------------------------\u001b[0m",
            "\u001b[0;31mFileNotFoundError\u001b[0m                         Traceback (most recent call last)",
            "\u001b[0;32m<ipython-input-1-3811b05ce69c>\u001b[0m in \u001b[0;36m<cell line: 2>\u001b[0;34m()\u001b[0m\n\u001b[1;32m      1\u001b[0m \u001b[0;32mimport\u001b[0m \u001b[0mzipfile\u001b[0m\u001b[0;34m\u001b[0m\u001b[0;34m\u001b[0m\u001b[0m\n\u001b[0;32m----> 2\u001b[0;31m \u001b[0mzip_ref\u001b[0m  \u001b[0;34m=\u001b[0m\u001b[0mzipfile\u001b[0m\u001b[0;34m.\u001b[0m\u001b[0mZipFile\u001b[0m\u001b[0;34m(\u001b[0m\u001b[0;34m'/content/plant-disease.zip'\u001b[0m\u001b[0;34m)\u001b[0m\u001b[0;34m\u001b[0m\u001b[0;34m\u001b[0m\u001b[0m\n\u001b[0m\u001b[1;32m      3\u001b[0m \u001b[0mzip_ref\u001b[0m\u001b[0;34m.\u001b[0m\u001b[0mextractall\u001b[0m\u001b[0;34m(\u001b[0m\u001b[0;34m'/content'\u001b[0m\u001b[0;34m)\u001b[0m\u001b[0;34m\u001b[0m\u001b[0;34m\u001b[0m\u001b[0m\n\u001b[1;32m      4\u001b[0m \u001b[0mzip_ref\u001b[0m\u001b[0;34m.\u001b[0m\u001b[0mclose\u001b[0m\u001b[0;34m(\u001b[0m\u001b[0;34m)\u001b[0m\u001b[0;34m\u001b[0m\u001b[0;34m\u001b[0m\u001b[0m\n",
            "\u001b[0;32m/usr/lib/python3.10/zipfile.py\u001b[0m in \u001b[0;36m__init__\u001b[0;34m(self, file, mode, compression, allowZip64, compresslevel, strict_timestamps)\u001b[0m\n\u001b[1;32m   1249\u001b[0m             \u001b[0;32mwhile\u001b[0m \u001b[0;32mTrue\u001b[0m\u001b[0;34m:\u001b[0m\u001b[0;34m\u001b[0m\u001b[0;34m\u001b[0m\u001b[0m\n\u001b[1;32m   1250\u001b[0m                 \u001b[0;32mtry\u001b[0m\u001b[0;34m:\u001b[0m\u001b[0;34m\u001b[0m\u001b[0;34m\u001b[0m\u001b[0m\n\u001b[0;32m-> 1251\u001b[0;31m                     \u001b[0mself\u001b[0m\u001b[0;34m.\u001b[0m\u001b[0mfp\u001b[0m \u001b[0;34m=\u001b[0m \u001b[0mio\u001b[0m\u001b[0;34m.\u001b[0m\u001b[0mopen\u001b[0m\u001b[0;34m(\u001b[0m\u001b[0mfile\u001b[0m\u001b[0;34m,\u001b[0m \u001b[0mfilemode\u001b[0m\u001b[0;34m)\u001b[0m\u001b[0;34m\u001b[0m\u001b[0;34m\u001b[0m\u001b[0m\n\u001b[0m\u001b[1;32m   1252\u001b[0m                 \u001b[0;32mexcept\u001b[0m \u001b[0mOSError\u001b[0m\u001b[0;34m:\u001b[0m\u001b[0;34m\u001b[0m\u001b[0;34m\u001b[0m\u001b[0m\n\u001b[1;32m   1253\u001b[0m                     \u001b[0;32mif\u001b[0m \u001b[0mfilemode\u001b[0m \u001b[0;32min\u001b[0m \u001b[0mmodeDict\u001b[0m\u001b[0;34m:\u001b[0m\u001b[0;34m\u001b[0m\u001b[0;34m\u001b[0m\u001b[0m\n",
            "\u001b[0;31mFileNotFoundError\u001b[0m: [Errno 2] No such file or directory: '/content/plant-disease.zip'"
          ]
        }
      ]
    },
    {
      "cell_type": "code",
      "source": [
        "import numpy as np\n",
        "import matplotlib.pyplot as plt\n",
        "import pandas as pd\n",
        "import os\n",
        "import keras\n",
        "from tensorflow.keras.utils import img_to_array, load_img\n",
        "from keras.preprocessing.image import ImageDataGenerator\n",
        "from keras.applications.vgg19 import VGG19, preprocess_input, decode_predictions"
      ],
      "metadata": {
        "id": "t2LbcWAL4mfr"
      },
      "execution_count": null,
      "outputs": []
    },
    {
      "cell_type": "code",
      "source": [
        "len(os.listdir('/content/dataset/train'))"
      ],
      "metadata": {
        "id": "5Gw3JnTzY8zz"
      },
      "execution_count": null,
      "outputs": []
    },
    {
      "cell_type": "markdown",
      "source": [
        "# ImageDataGenerator -> takes input of original data img and transforms the data according to the param set"
      ],
      "metadata": {
        "id": "4fGW-NSBVBFN"
      }
    },
    {
      "cell_type": "code",
      "source": [
        "train_datagen = ImageDataGenerator(zoom_range = 0.5, shear_range = 0.3, horizontal_flip = True,preprocessing_function= preprocess_input)\n",
        "test_datagen =  ImageDataGenerator(preprocessing_function= preprocess_input)"
      ],
      "metadata": {
        "id": "tSc5vmkTaBUR"
      },
      "execution_count": null,
      "outputs": []
    },
    {
      "cell_type": "markdown",
      "source": [
        "## flow_from_directory allows you to read -(get data)from directory"
      ],
      "metadata": {
        "id": "mm62vOgBWcEd"
      }
    },
    {
      "cell_type": "code",
      "source": [
        "train  = train_datagen.flow_from_directory(directory = '/content/dataset/dataset/train', target_size = (256,256),\n",
        "                                           batch_size=32)\n",
        "test  = test_datagen.flow_from_directory(directory = '/content/dataset/dataset/test', target_size = (256,256),\n",
        "                                           batch_size=32)"
      ],
      "metadata": {
        "id": "rteXeeL0gbMW"
      },
      "execution_count": null,
      "outputs": []
    },
    {
      "cell_type": "code",
      "source": [
        "train_imgs , label = train.next()"
      ],
      "metadata": {
        "id": "JTYTYiW_lMHh"
      },
      "execution_count": null,
      "outputs": []
    },
    {
      "cell_type": "code",
      "source": [],
      "metadata": {
        "id": "8HLGkTpxW8v0"
      },
      "execution_count": null,
      "outputs": []
    },
    {
      "cell_type": "code",
      "source": [
        "# plot images on a graph\n",
        "def plotImage(imageArr, label):\n",
        "  for img , label in zip(imageArr, label):\n",
        "    plt.figure(figsize = (5,5))\n",
        "    plt.imshow(img)\n",
        "    plt.show()"
      ],
      "metadata": {
        "id": "ZsKcuJ2DhMAk"
      },
      "execution_count": null,
      "outputs": []
    },
    {
      "cell_type": "code",
      "source": [
        "plotImage(train_imgs[:3], label [ :3])"
      ],
      "metadata": {
        "id": "BcWsulUwlF5P"
      },
      "execution_count": null,
      "outputs": []
    },
    {
      "cell_type": "code",
      "source": [
        "from  keras.layers import Dense, Flatten\n",
        "from keras.models import Model\n",
        "from keras.applications.vgg19 import VGG19\n",
        "import keras"
      ],
      "metadata": {
        "id": "plN3Wj6qlsmO"
      },
      "execution_count": null,
      "outputs": []
    },
    {
      "cell_type": "code",
      "source": [
        "base_model = VGG19(input_shape= (256, 256,3), include_top=False)"
      ],
      "metadata": {
        "colab": {
          "base_uri": "https://localhost:8080/"
        },
        "id": "UNBoibk2m9kP",
        "outputId": "85048e83-3d9b-4620-b7be-c2848058371b"
      },
      "execution_count": null,
      "outputs": [
        {
          "output_type": "stream",
          "name": "stdout",
          "text": [
            "Downloading data from https://storage.googleapis.com/tensorflow/keras-applications/vgg19/vgg19_weights_tf_dim_ordering_tf_kernels_notop.h5\n",
            "80134624/80134624 [==============================] - 4s 0us/step\n"
          ]
        }
      ]
    },
    {
      "cell_type": "markdown",
      "source": [
        "Args\n",
        "\n",
        "1.  input_shape = (width, height, depth)\n",
        "2.  include_top = to include the 3 fully\n",
        "  connected layers at the top of network\n",
        "3.  pooling = global average pooling will be applied to the output of the last convolutional block\n",
        "4.  classes: optional number of classes to classify images into,\n",
        "5. Weights : 'imagenet'or path of weights folder weights\n",
        "\n",
        "\n",
        "\n",
        "\n"
      ],
      "metadata": {
        "id": "Wt_uvED7XpbP"
      }
    },
    {
      "cell_type": "code",
      "source": [
        "for layer in base_model.layers:\n",
        "  layer.trainable = False"
      ],
      "metadata": {
        "id": "qh66muOEnOQN"
      },
      "execution_count": null,
      "outputs": []
    },
    {
      "cell_type": "markdown",
      "source": [
        "2 types of weights\n",
        "1.   trainabel =  \n",
        "2.  non_trainable =\n",
        "3.   layer.trainable =  False => moves all weights to non trainable"
      ],
      "metadata": {
        "id": "8IzL8kBfrQaC"
      }
    },
    {
      "cell_type": "code",
      "source": [
        "base_model.summary()"
      ],
      "metadata": {
        "colab": {
          "base_uri": "https://localhost:8080/"
        },
        "id": "cK8_TVrTnX5w",
        "outputId": "a021b170-a524-4e97-8344-fbcf0bad6355"
      },
      "execution_count": null,
      "outputs": [
        {
          "output_type": "stream",
          "name": "stdout",
          "text": [
            "Model: \"vgg19\"\n",
            "_________________________________________________________________\n",
            " Layer (type)                Output Shape              Param #   \n",
            "=================================================================\n",
            " input_1 (InputLayer)        [(None, 256, 256, 3)]     0         \n",
            "                                                                 \n",
            " block1_conv1 (Conv2D)       (None, 256, 256, 64)      1792      \n",
            "                                                                 \n",
            " block1_conv2 (Conv2D)       (None, 256, 256, 64)      36928     \n",
            "                                                                 \n",
            " block1_pool (MaxPooling2D)  (None, 128, 128, 64)      0         \n",
            "                                                                 \n",
            " block2_conv1 (Conv2D)       (None, 128, 128, 128)     73856     \n",
            "                                                                 \n",
            " block2_conv2 (Conv2D)       (None, 128, 128, 128)     147584    \n",
            "                                                                 \n",
            " block2_pool (MaxPooling2D)  (None, 64, 64, 128)       0         \n",
            "                                                                 \n",
            " block3_conv1 (Conv2D)       (None, 64, 64, 256)       295168    \n",
            "                                                                 \n",
            " block3_conv2 (Conv2D)       (None, 64, 64, 256)       590080    \n",
            "                                                                 \n",
            " block3_conv3 (Conv2D)       (None, 64, 64, 256)       590080    \n",
            "                                                                 \n",
            " block3_conv4 (Conv2D)       (None, 64, 64, 256)       590080    \n",
            "                                                                 \n",
            " block3_pool (MaxPooling2D)  (None, 32, 32, 256)       0         \n",
            "                                                                 \n",
            " block4_conv1 (Conv2D)       (None, 32, 32, 512)       1180160   \n",
            "                                                                 \n",
            " block4_conv2 (Conv2D)       (None, 32, 32, 512)       2359808   \n",
            "                                                                 \n",
            " block4_conv3 (Conv2D)       (None, 32, 32, 512)       2359808   \n",
            "                                                                 \n",
            " block4_conv4 (Conv2D)       (None, 32, 32, 512)       2359808   \n",
            "                                                                 \n",
            " block4_pool (MaxPooling2D)  (None, 16, 16, 512)       0         \n",
            "                                                                 \n",
            " block5_conv1 (Conv2D)       (None, 16, 16, 512)       2359808   \n",
            "                                                                 \n",
            " block5_conv2 (Conv2D)       (None, 16, 16, 512)       2359808   \n",
            "                                                                 \n",
            " block5_conv3 (Conv2D)       (None, 16, 16, 512)       2359808   \n",
            "                                                                 \n",
            " block5_conv4 (Conv2D)       (None, 16, 16, 512)       2359808   \n",
            "                                                                 \n",
            " block5_pool (MaxPooling2D)  (None, 8, 8, 512)         0         \n",
            "                                                                 \n",
            "=================================================================\n",
            "Total params: 20,024,384\n",
            "Trainable params: 0\n",
            "Non-trainable params: 20,024,384\n",
            "_________________________________________________________________\n"
          ]
        }
      ]
    },
    {
      "cell_type": "code",
      "source": [
        "X= Flatten()(base_model.output)\n",
        "X = Dense(units  = 38, activation =  'softmax')(X)\n",
        "\n",
        "\n",
        "model  =  Model(base_model.input, X)"
      ],
      "metadata": {
        "id": "9qxMVt9RnpMs"
      },
      "execution_count": null,
      "outputs": []
    },
    {
      "cell_type": "code",
      "source": [
        "model.summary()"
      ],
      "metadata": {
        "colab": {
          "base_uri": "https://localhost:8080/"
        },
        "id": "5lUwHAZNohZt",
        "outputId": "3ec511cb-b9bb-451c-bc5b-390c96ea8eaa"
      },
      "execution_count": null,
      "outputs": [
        {
          "output_type": "stream",
          "name": "stdout",
          "text": [
            "Model: \"model\"\n",
            "_________________________________________________________________\n",
            " Layer (type)                Output Shape              Param #   \n",
            "=================================================================\n",
            " input_1 (InputLayer)        [(None, 256, 256, 3)]     0         \n",
            "                                                                 \n",
            " block1_conv1 (Conv2D)       (None, 256, 256, 64)      1792      \n",
            "                                                                 \n",
            " block1_conv2 (Conv2D)       (None, 256, 256, 64)      36928     \n",
            "                                                                 \n",
            " block1_pool (MaxPooling2D)  (None, 128, 128, 64)      0         \n",
            "                                                                 \n",
            " block2_conv1 (Conv2D)       (None, 128, 128, 128)     73856     \n",
            "                                                                 \n",
            " block2_conv2 (Conv2D)       (None, 128, 128, 128)     147584    \n",
            "                                                                 \n",
            " block2_pool (MaxPooling2D)  (None, 64, 64, 128)       0         \n",
            "                                                                 \n",
            " block3_conv1 (Conv2D)       (None, 64, 64, 256)       295168    \n",
            "                                                                 \n",
            " block3_conv2 (Conv2D)       (None, 64, 64, 256)       590080    \n",
            "                                                                 \n",
            " block3_conv3 (Conv2D)       (None, 64, 64, 256)       590080    \n",
            "                                                                 \n",
            " block3_conv4 (Conv2D)       (None, 64, 64, 256)       590080    \n",
            "                                                                 \n",
            " block3_pool (MaxPooling2D)  (None, 32, 32, 256)       0         \n",
            "                                                                 \n",
            " block4_conv1 (Conv2D)       (None, 32, 32, 512)       1180160   \n",
            "                                                                 \n",
            " block4_conv2 (Conv2D)       (None, 32, 32, 512)       2359808   \n",
            "                                                                 \n",
            " block4_conv3 (Conv2D)       (None, 32, 32, 512)       2359808   \n",
            "                                                                 \n",
            " block4_conv4 (Conv2D)       (None, 32, 32, 512)       2359808   \n",
            "                                                                 \n",
            " block4_pool (MaxPooling2D)  (None, 16, 16, 512)       0         \n",
            "                                                                 \n",
            " block5_conv1 (Conv2D)       (None, 16, 16, 512)       2359808   \n",
            "                                                                 \n",
            " block5_conv2 (Conv2D)       (None, 16, 16, 512)       2359808   \n",
            "                                                                 \n",
            " block5_conv3 (Conv2D)       (None, 16, 16, 512)       2359808   \n",
            "                                                                 \n",
            " block5_conv4 (Conv2D)       (None, 16, 16, 512)       2359808   \n",
            "                                                                 \n",
            " block5_pool (MaxPooling2D)  (None, 8, 8, 512)         0         \n",
            "                                                                 \n",
            " flatten (Flatten)           (None, 32768)             0         \n",
            "                                                                 \n",
            " dense (Dense)               (None, 38)                1245222   \n",
            "                                                                 \n",
            "=================================================================\n",
            "Total params: 21,269,606\n",
            "Trainable params: 1,245,222\n",
            "Non-trainable params: 20,024,384\n",
            "_________________________________________________________________\n"
          ]
        }
      ]
    },
    {
      "cell_type": "code",
      "source": [
        "model.compile(optimizer  = 'adam', loss =  keras.losses.categorical_crossentropy, metrics = ['accuracy'])"
      ],
      "metadata": {
        "id": "w2bBzgVKtjoY"
      },
      "execution_count": null,
      "outputs": []
    },
    {
      "cell_type": "markdown",
      "source": [
        "Adam is the best optimizers. If one wants to train the neural network in less time and more efficiently than Adam is the optimizer. For sparse data use the optimizers with dynamic learning rate.\n",
        "\n",
        "categorical_crossentropy: Used as a loss function for multi-class classification model where there are two or more output labels. The output label is assigned one-hot category encoding value in form of 0s and 1. The output label, if present in integer form, is converted into categorical encoding using keras."
      ],
      "metadata": {
        "id": "Eu1OnNsXvreD"
      }
    },
    {
      "cell_type": "code",
      "source": [
        "from keras.callbacks import ModelCheckpoint, EarlyStopping\n",
        "\n",
        "ErStop = EarlyStopping(monitor = 'val_accuracy', min_delta = 0.1, patience  = 3 , verbose = 1)\n",
        "ModCheck = ModelCheckpoint(filepath = 'best_model.h5',\n",
        "                           monitor = 'val_accuracy',\n",
        "                           min_delta = 0.1, patience  = 3 ,\n",
        "                           verbose = 1,\n",
        "                           save_best_only = True)"
      ],
      "metadata": {
        "id": "3rPC8Ilbojzz"
      },
      "execution_count": null,
      "outputs": []
    },
    {
      "cell_type": "markdown",
      "source": [
        "Instead of going through all iterations(epochs)  where the acc val will go up and might come down we stop when the val reaches it's peak accuracy ."
      ],
      "metadata": {
        "id": "Pww2SgGnwH5j"
      }
    },
    {
      "cell_type": "code",
      "source": [
        "cb = [ErStop,ModCheck]"
      ],
      "metadata": {
        "id": "rUDI5hVqsazo"
      },
      "execution_count": null,
      "outputs": []
    },
    {
      "cell_type": "code",
      "source": [
        "history  =  model.fit_generator(train,\n",
        "                               steps_per_epoch = 16,\n",
        "                               epochs = 50,\n",
        "                               verbose = 1,\n",
        "                               callbacks = cb,\n",
        "                               validation_data = test,\n",
        "                               validation_steps = 16)"
      ],
      "metadata": {
        "colab": {
          "base_uri": "https://localhost:8080/"
        },
        "id": "tXUiDnxHs6rN",
        "outputId": "d2225872-2bbf-459b-bbb6-842b78c753cf"
      },
      "execution_count": null,
      "outputs": [
        {
          "output_type": "stream",
          "name": "stderr",
          "text": [
            "<ipython-input-28-298fea299993>:1: UserWarning: `Model.fit_generator` is deprecated and will be removed in a future version. Please use `Model.fit`, which supports generators.\n",
            "  history  =  model.fit_generator(train,\n"
          ]
        },
        {
          "output_type": "stream",
          "name": "stdout",
          "text": [
            "Epoch 1/50\n",
            "16/16 [==============================] - ETA: 0s - loss: 28.3516 - accuracy: 0.2383\n",
            "Epoch 1: val_accuracy improved from -inf to 0.52344, saving model to best_model.h5\n",
            "16/16 [==============================] - 26s 775ms/step - loss: 28.3516 - accuracy: 0.2383 - val_loss: 16.6220 - val_accuracy: 0.5234\n",
            "Epoch 2/50\n",
            "16/16 [==============================] - ETA: 0s - loss: 14.9922 - accuracy: 0.5254\n",
            "Epoch 2: val_accuracy improved from 0.52344 to 0.67188, saving model to best_model.h5\n",
            "16/16 [==============================] - 13s 847ms/step - loss: 14.9922 - accuracy: 0.5254 - val_loss: 10.1332 - val_accuracy: 0.6719\n",
            "Epoch 3/50\n",
            "16/16 [==============================] - ETA: 0s - loss: 11.0018 - accuracy: 0.5723\n",
            "Epoch 3: val_accuracy did not improve from 0.67188\n",
            "16/16 [==============================] - 16s 990ms/step - loss: 11.0018 - accuracy: 0.5723 - val_loss: 7.7563 - val_accuracy: 0.6680\n",
            "Epoch 4/50\n",
            "16/16 [==============================] - ETA: 0s - loss: 11.5443 - accuracy: 0.5918\n",
            "Epoch 4: val_accuracy improved from 0.67188 to 0.71094, saving model to best_model.h5\n",
            "16/16 [==============================] - 14s 883ms/step - loss: 11.5443 - accuracy: 0.5918 - val_loss: 7.6465 - val_accuracy: 0.7109\n",
            "Epoch 5/50\n",
            "16/16 [==============================] - ETA: 0s - loss: 8.0214 - accuracy: 0.6641\n",
            "Epoch 5: val_accuracy improved from 0.71094 to 0.78906, saving model to best_model.h5\n",
            "16/16 [==============================] - 15s 950ms/step - loss: 8.0214 - accuracy: 0.6641 - val_loss: 5.2916 - val_accuracy: 0.7891\n",
            "Epoch 6/50\n",
            "16/16 [==============================] - ETA: 0s - loss: 6.5282 - accuracy: 0.7520\n",
            "Epoch 6: val_accuracy improved from 0.78906 to 0.82617, saving model to best_model.h5\n",
            "16/16 [==============================] - 14s 850ms/step - loss: 6.5282 - accuracy: 0.7520 - val_loss: 3.6775 - val_accuracy: 0.8262\n",
            "Epoch 7/50\n",
            "16/16 [==============================] - ETA: 0s - loss: 6.5872 - accuracy: 0.7305\n",
            "Epoch 7: val_accuracy did not improve from 0.82617\n",
            "16/16 [==============================] - 15s 909ms/step - loss: 6.5872 - accuracy: 0.7305 - val_loss: 6.0048 - val_accuracy: 0.7734\n",
            "Epoch 8/50\n",
            "16/16 [==============================] - ETA: 0s - loss: 6.1149 - accuracy: 0.7598\n",
            "Epoch 8: val_accuracy improved from 0.82617 to 0.82812, saving model to best_model.h5\n",
            "16/16 [==============================] - 15s 954ms/step - loss: 6.1149 - accuracy: 0.7598 - val_loss: 4.4541 - val_accuracy: 0.8281\n",
            "Epoch 8: early stopping\n"
          ]
        }
      ]
    },
    {
      "cell_type": "code",
      "source": [
        "his_plot  = history.history\n",
        "his_plot.keys()\n",
        "\n",
        "\n",
        "plt.plot(his_plot['accuracy'])\n",
        "plt.plot(his_plot['val_accuracy'], c = 'red')\n",
        "plt.title = (\"acc vs val_acc\")\n",
        "plt.show()\n"
      ],
      "metadata": {
        "colab": {
          "base_uri": "https://localhost:8080/",
          "height": 430
        },
        "id": "h5TDS9WUzNOU",
        "outputId": "19dc7745-a6ec-4b33-cc8b-1bf2300a214b"
      },
      "execution_count": null,
      "outputs": [
        {
          "output_type": "display_data",
          "data": {
            "text/plain": [
              "<Figure size 640x480 with 1 Axes>"
            ],
            "image/png": "[encoded data removed]"
          },
          "metadata": {}
        }
      ]
    },
    {
      "cell_type": "code",
      "source": [
        "plt.plot(his_plot['loss'])\n",
        "plt.plot(his_plot['val_loss'], c = 'red')\n",
        "plt.title = (\"loss vs val_loss\")\n",
        "plt.show()"
      ],
      "metadata": {
        "colab": {
          "base_uri": "https://localhost:8080/",
          "height": 430
        },
        "id": "gYWv-9Sg1qrE",
        "outputId": "412ac6c4-dc6a-4cc3-e065-47dd57bc186f"
      },
      "execution_count": null,
      "outputs": [
        {
          "output_type": "display_data",
          "data": {
            "text/plain": [
              "<Figure size 640x480 with 1 Axes>"
            ],
            "image/png": "[encoded data removed]"
          },
          "metadata": {}
        }
      ]
    },
    {
      "cell_type": "code",
      "source": [
        "from keras.models import load_model\n",
        "model = load_model(\"/content/best_model.h5\")"
      ],
      "metadata": {
        "id": "fbjbmmUd2Ehy"
      },
      "execution_count": null,
      "outputs": []
    },
    {
      "cell_type": "code",
      "source": [
        "acc = model.evaluate_generator(test)[1]\n",
        "print (\"the acc of model = \" ,{acc*100} )"
      ],
      "metadata": {
        "colab": {
          "base_uri": "https://localhost:8080/"
        },
        "id": "ZmYwfQzH2dJ_",
        "outputId": "083bdcb3-865d-45ac-9bdb-6cd99f9fa449"
      },
      "execution_count": null,
      "outputs": [
        {
          "output_type": "stream",
          "name": "stderr",
          "text": [
            "<ipython-input-39-1a6b88ac5114>:1: UserWarning: `Model.evaluate_generator` is deprecated and will be removed in a future version. Please use `Model.evaluate`, which supports generators.\n",
            "  acc = model.evaluate_generator(test)[1]\n"
          ]
        },
        {
          "output_type": "stream",
          "name": "stdout",
          "text": [
            "the acc of model =  {80.54198622703552}\n"
          ]
        }
      ]
    },
    {
      "cell_type": "code",
      "source": [
        "def prediction(path):\n",
        "  img  = load_img(path, target_size = (256,256) )\n",
        "  i = img_to_array(img)\n",
        "  im = preprocess_input(i)\n",
        "  img = np.expand_dims(im, axis = 0)\n",
        "  pred = np.argmax(model.predict(img))\n",
        "  print(f\"the image is of a {ref[pred]}\")"
      ],
      "metadata": {
        "id": "bdetVMBQ2sxX"
      },
      "execution_count": null,
      "outputs": []
    },
    {
      "cell_type": "code",
      "source": [
        "path = input(\"input the path of image \")\n",
        "prediction(path)"
      ],
      "metadata": {
        "colab": {
          "base_uri": "https://localhost:8080/"
        },
        "id": "8CJutKd2345B",
        "outputId": "8ec8860c-a4c2-4858-fcae-10f8a76c68a9"
      },
      "execution_count": null,
      "outputs": [
        {
          "output_type": "stream",
          "name": "stdout",
          "text": [
            "input the path of image /content/dataset/test/Strawberry___Leaf_scorch/01d11a79-f858-4e58-9b14-c3f0619af1f7___RS_L.Scorch 0090.JPG\n",
            "1/1 [==============================] - 0s 21ms/step\n",
            "the image is of a Strawberry___Leaf_scorch\n"
          ]
        }
      ]
    },
    {
      "cell_type": "code",
      "source": [
        "ref = dict(zip(list(train.class_indices.values()),list(train.class_indices.keys())))"
      ],
      "metadata": {
        "id": "CHseMaxy4FXY"
      },
      "execution_count": null,
      "outputs": []
    },
    {
      "cell_type": "code",
      "source": [
        "import pickle"
      ],
      "metadata": {
        "id": "lzPsJtE_5BaL"
      },
      "execution_count": null,
      "outputs": []
    },
    {
      "cell_type": "code",
      "source": [
        "with open('plant_disease_detection', 'wb') as f :\n",
        "  pickle.dump(model,f)"
      ],
      "metadata": {
        "id": "L3msXGWb8j01"
      },
      "execution_count": null,
      "outputs": []
    },
    {
      "cell_type": "code",
      "source": [],
      "metadata": {
        "id": "s5OH0hBp8rS2"
      },
      "execution_count": null,
      "outputs": []
    }
  ]
}